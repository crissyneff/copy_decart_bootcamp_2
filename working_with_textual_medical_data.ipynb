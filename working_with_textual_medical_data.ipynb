{
 "cells": [
  {
   "cell_type": "markdown",
   "metadata": {},
   "source": [
    "<html>\n",
    "<table width=\"100%\" cellspacing=\"2\" cellpadding=\"2\" border=\"1\">\n",
    "<tbody>\n",
    "<tr>\n",
    "<td valign=\"center\" align=\"center\" width=\"25%\"><img src=\"media/decartes.jpg\"\n",
    "alt=\"DeCART Icon\" width=\"128\" height=\"171\"><br>\n",
    "</td>\n",
    "<td valign=\"center\" align=\"center\" width=\"75%\">\n",
    "<h1 align=\"center\"><font size=\"+1\">DeCART Summer School<br>\n",
    "for<br>\n",
    "Biomedical Data Science</font></h1></td>\n",
    "<td valign=\"center\" align=\"center\" width=\"25%\"><img\n",
    "src=\"media/U_Health_stacked_png_red.png\" alt=\"Utah Health\n",
    "Logo\" width=\"128\" height=\"134\"><br>\n",
    "</td>\n",
    "</tr>\n",
    "</tbody>\n",
    "</table>\n",
    "<br>\n",
    "</html>\n",
    "\n",
    "\n",
    "# Working with Textual Data\n",
    "#### &copy; Brian E. Chapman, Ph.D.\n",
    "\n",
    "\n",
    "### To get the latest version of this lesson, execute the cell below"
   ]
  },
  {
   "cell_type": "code",
   "execution_count": 1,
   "metadata": {},
   "outputs": [],
   "source": [
    "%matplotlib inline"
   ]
  },
  {
   "cell_type": "code",
   "execution_count": 31,
   "metadata": {},
   "outputs": [],
   "source": [
    "import pymysql\n",
    "import pandas as pd\n",
    "import getpass\n",
    "from textblob import TextBlob\n",
    "import numpy as np"
   ]
  },
  {
   "cell_type": "code",
   "execution_count": 3,
   "metadata": {},
   "outputs": [
    {
     "name": "stdout",
     "output_type": "stream",
     "text": [
      "Enter MySQL passwd for jovyan········\n"
     ]
    }
   ],
   "source": [
    "conn = pymysql.connect(host=\"mysql\",\n",
    "                       port=3306,user=\"jovyan\",\n",
    "                       passwd=getpass.getpass(\"Enter MySQL passwd for jovyan\"),db='mimic2')\n",
    "cursor = conn.cursor()"
   ]
  },
  {
   "cell_type": "markdown",
   "metadata": {},
   "source": [
    "### Use Pandas and SQL to create a dataframe with the following:\n",
    "* subject_id\n",
    "* hospital admission id\n",
    "* text of the radiology report\n",
    "* Limit the number of reports to 10000"
   ]
  },
  {
   "cell_type": "code",
   "execution_count": 8,
   "metadata": {},
   "outputs": [
    {
     "data": {
      "text/html": [
       "<div>\n",
       "<style scoped>\n",
       "    .dataframe tbody tr th:only-of-type {\n",
       "        vertical-align: middle;\n",
       "    }\n",
       "\n",
       "    .dataframe tbody tr th {\n",
       "        vertical-align: top;\n",
       "    }\n",
       "\n",
       "    .dataframe thead th {\n",
       "        text-align: right;\n",
       "    }\n",
       "</style>\n",
       "<table border=\"1\" class=\"dataframe\">\n",
       "  <thead>\n",
       "    <tr style=\"text-align: right;\">\n",
       "      <th></th>\n",
       "      <th>subject_id</th>\n",
       "      <th>hadm_id</th>\n",
       "      <th>text</th>\n",
       "    </tr>\n",
       "  </thead>\n",
       "  <tbody>\n",
       "    <tr>\n",
       "      <th>0</th>\n",
       "      <td>56</td>\n",
       "      <td>28766.0</td>\n",
       "      <td>\\n\\n\\n     DATE: [**2644-1-17**] 10:53 AM\\n   ...</td>\n",
       "    </tr>\n",
       "    <tr>\n",
       "      <th>1</th>\n",
       "      <td>56</td>\n",
       "      <td>28766.0</td>\n",
       "      <td>\\n\\n\\n     DATE: [**2644-1-17**] 10:53 AM\\n   ...</td>\n",
       "    </tr>\n",
       "    <tr>\n",
       "      <th>2</th>\n",
       "      <td>56</td>\n",
       "      <td>28766.0</td>\n",
       "      <td>\\n\\n\\n     DATE: [**2644-1-17**] 10:43 AM\\n   ...</td>\n",
       "    </tr>\n",
       "    <tr>\n",
       "      <th>3</th>\n",
       "      <td>56</td>\n",
       "      <td>28766.0</td>\n",
       "      <td>\\n\\n\\n     DATE: [**2644-1-17**] 6:37 AM\\n    ...</td>\n",
       "    </tr>\n",
       "    <tr>\n",
       "      <th>4</th>\n",
       "      <td>56</td>\n",
       "      <td>28766.0</td>\n",
       "      <td>\\n\\n\\n     DATE: [**2644-1-19**] 12:09 PM\\n   ...</td>\n",
       "    </tr>\n",
       "  </tbody>\n",
       "</table>\n",
       "</div>"
      ],
      "text/plain": [
       "   subject_id  hadm_id                                               text\n",
       "0          56  28766.0  \\n\\n\\n     DATE: [**2644-1-17**] 10:53 AM\\n   ...\n",
       "1          56  28766.0  \\n\\n\\n     DATE: [**2644-1-17**] 10:53 AM\\n   ...\n",
       "2          56  28766.0  \\n\\n\\n     DATE: [**2644-1-17**] 10:43 AM\\n   ...\n",
       "3          56  28766.0  \\n\\n\\n     DATE: [**2644-1-17**] 6:37 AM\\n    ...\n",
       "4          56  28766.0  \\n\\n\\n     DATE: [**2644-1-19**] 12:09 PM\\n   ..."
      ]
     },
     "execution_count": 8,
     "metadata": {},
     "output_type": "execute_result"
    }
   ],
   "source": [
    "rad_data = \\\n",
    "pd.read_sql(\"\"\"SELECT noteevents.subject_id, \n",
    "                      noteevents.hadm_id,\n",
    "                      noteevents.text \n",
    "               FROM noteevents\n",
    "               WHERE noteevents.category = 'RADIOLOGY_REPORT' LIMIT 10000\"\"\",conn)\n",
    "rad_data.head(5)"
   ]
  },
  {
   "cell_type": "code",
   "execution_count": 5,
   "metadata": {},
   "outputs": [
    {
     "data": {
      "text/plain": [
       "(10000, 3)"
      ]
     },
     "execution_count": 5,
     "metadata": {},
     "output_type": "execute_result"
    }
   ],
   "source": [
    "rad_data.shape"
   ]
  },
  {
   "cell_type": "markdown",
   "metadata": {},
   "source": [
    "## Section Splitting\n",
    "\n",
    "<img src=\"http://medicine.utah.edu/dbmi/images/faculty/Chapman,Wendy_240x360.jpg\"\n",
    "alt=\"Wendy Chapman\" width=\"128\">\n",
    "\n",
    "Clinical reports are often divided into sections. Physicians are taught to write their reports in the SOAP format: subjective information, objective information, assessment, and plan, and sections often reflect this process. Information each setion may be formatted differently. For example, subjective information is often narrative, telling a story of the patient's description of their past medical history and their current issues. The objective section may be much more telegraphic with shortened descriptions of measurements like blood pressure and heart rate, such as \"120/80 88\". You may need different NLP techniques to accurately extract information out of different sections. Sentence splitting, for example, may be different in subjective versus objective sections. Radiology reports are not in the SOAP format, but section identification can still be very important, because in these reports the radiologist describes what she sees on the radiographic image then sometimes summarizes her impression of what the observations may represent, such as \"the infiltrate could be consistent with pneumonia.\" For some tasks, you may only be interested in the impression, which has more weight than the reasoning that occurs in the Findings section."
   ]
  },
  {
   "cell_type": "markdown",
   "metadata": {},
   "source": [
    "## Exercise\n",
    "\n",
    "Write a function that returns the impression section of a report. The function will take two arguments:\n",
    "\n",
    "1. The text to search for the impression section is the first positional argument.\n",
    "1. A list of phrases to use to identify the impression section.\n",
    "\n",
    "Not every report will have a section labeled \"IMPRESSION\". You can consider \"INTERPRETATION\" and \"CONCLUSIONS\" as synonyms for \"IMPRESSION\"\n",
    "\n",
    "If you cannot identify the impresison section (or equivalent), return an empty string.\n",
    "\n",
    "#### Hints\n",
    "\n",
    "* Use a for loop  to iterate across\n",
    "* Use the find method of a string to identify where in the string the impression section occurs\n",
    "* Use slicing to grab the impression section\n"
   ]
  },
  {
   "cell_type": "code",
   "execution_count": 11,
   "metadata": {},
   "outputs": [
    {
     "data": {
      "text/plain": [
       "\"\\n\\n\\n     DATE: [**2644-1-17**] 10:53 AM\\n     MR HEAD W & W/O CONTRAST; MR CONTRAST GADOLIN                   Clip # [**Clip Number (Radiology) 12569**]\\n     Reason: R ICB and HX brain mets - eval - also with DWI for CVA Do MR\\n      Contrast: MAGNEVIST Amt: 15\\n     ______________________________________________________________________________\\n     UNDERLYING MEDICAL CONDITION:\\n      [**Age over 90 **] year old woman with lung CA- mets to brain                                   \\n     REASON FOR THIS EXAMINATION:\\n      R ICB and HX brain mets - eval - also with DWI for CVA Do MRI both with and \\n      without contast please\\n     ______________________________________________________________________________\\n                                     FINAL REPORT\\n     EXAMINATION:  MRI of the brain with and without gadolinium.\\n     \\n     INDICATION:  [**Age over 90 **] year old woman with lung cancer and right intracranial bleed\\n     and history of brain metastases.  Please evaluate for acute infarct.\\n     \\n     TECHNIQUE:  Multiplanar T1 and T2-weighted images of the brain with gadolinium\\n     according to standard departmental protocol.  No prior study for comparison.\\n     \\n     FINDINGS:  On diffusion-weighted images there is a small area of restricted\\n     diffusion along the falx within the left occipitotemporal lobe.  It is also\\n     bright on FLAIR-weighted images and may represent a subacute infarct. Clinical\\n     correlation is recommended.  On gradient echo images there is a large area of\\n     intraparenchymal hemorrhage within the right parietal lobe and left thalamus\\n     which following administration of gadolinium reveals ring-enhancing lesions.\\n     These are suspicious for hemorrhagic metastases given the patient's history.\\n     Additional ring-enhancing lesions throughout the supra- and infratentorial\\n     compartments are visualized.  There is a moderate amount of peritumoral edema\\n     involving the right parietal lobe lesion in addition to a second right\\n     parietal lesion along the falx high in the vertex.  The other areas of\\n     metastases reveal a minimal amount of peritumoral edema.\\n     \\n\\n\""
      ]
     },
     "execution_count": 11,
     "metadata": {},
     "output_type": "execute_result"
    }
   ],
   "source": [
    "rad_data.loc[0,\"text\"]"
   ]
  },
  {
   "cell_type": "code",
   "execution_count": 13,
   "metadata": {},
   "outputs": [
    {
     "data": {
      "text/plain": [
       "'\\n\\n\\n     DATE: [**3264-8-16**] 1:53 PM\\n     CHEST (PORTABLE AP)                                             Clip # [**Clip Number (Radiology) 10701**]\\n     Reason: 68 yo M CHF, SOB                                            \\n     Admitting Diagnosis: CONGESTIVE HEART FAILURE\\n     ______________________________________________________________________________\\n     UNDERLYING MEDICAL CONDITION:\\n        68 year old man with sob, hx of chf, cad s/p CABG                             \\n       \\n     REASON FOR THIS EXAMINATION:\\n      68 yo M CHF, SOB                                                                \\n     ______________________________________________________________________________\\n                                     FINAL REPORT\\n     INDICATION:  Shortness of breath with history of CHF and CAD.\\n     \\n     Comparison [**3264-8-14**].\\n     \\n     FINDINGS:  Patient is status post CABG and multiple sternal wires appear\\n     fractured, not changed since the previous exam.  Cardiac and mediastinal\\n     contours are also unchanged.  Pulmonary vasculature is indistinct, and there\\n     remains vague increased density in the lingula.  No appreciable effusion.  No\\n     pneumothorax.\\n     \\n     IMPRESSION:\\n     1. Persistence of interval slight worsening of degree of patchy opacity within\\n     the lingula.  Continued follow up is recommended to exclude pneumonia.\\n     2. Persistent mild CHF.\\n\\n'"
      ]
     },
     "execution_count": 13,
     "metadata": {},
     "output_type": "execute_result"
    }
   ],
   "source": [
    "rad_data.loc[10,\"text\"]"
   ]
  },
  {
   "cell_type": "code",
   "execution_count": 14,
   "metadata": {},
   "outputs": [],
   "source": [
    "txt0=rad_data.loc[0,\"text\"]"
   ]
  },
  {
   "cell_type": "code",
   "execution_count": 15,
   "metadata": {},
   "outputs": [],
   "source": [
    "txt10=rad_data.loc[10,\"text\"]"
   ]
  },
  {
   "cell_type": "code",
   "execution_count": 16,
   "metadata": {},
   "outputs": [
    {
     "data": {
      "text/plain": [
       "1207"
      ]
     },
     "execution_count": 16,
     "metadata": {},
     "output_type": "execute_result"
    }
   ],
   "source": [
    "txt10.find(\"IMPRESSION\")"
   ]
  },
  {
   "cell_type": "code",
   "execution_count": null,
   "metadata": {},
   "outputs": [],
   "source": [
    "ind = 5\n",
    "if ind == - 1:\n",
    "    "
   ]
  },
  {
   "cell_type": "code",
   "execution_count": 22,
   "metadata": {},
   "outputs": [
    {
     "data": {
      "text/plain": [
       "'IMPRESSION:\\n     1. Persistence of interval slight worsening of degree of patchy opacity within\\n     the lingula.  Continued follow up is recommended to exclude pneumonia.\\n     2. Persistent mild CHF.\\n\\n'"
      ]
     },
     "execution_count": 22,
     "metadata": {},
     "output_type": "execute_result"
    }
   ],
   "source": [
    "\n",
    "def find_impression(txt, search_terms=[\"IMPRESSION\", \"INTERPRETATION\",\"CONCLUSIONS\"]):\n",
    "    for term in search_terms:\n",
    "        ind = txt.find(term)\n",
    "        if ind != -1:\n",
    "            return txt[ind:]\n",
    "    \n",
    "    return \"\"\n",
    "\n",
    "find_impression(txt10)\n"
   ]
  },
  {
   "cell_type": "code",
   "execution_count": null,
   "metadata": {},
   "outputs": [],
   "source": []
  },
  {
   "cell_type": "code",
   "execution_count": null,
   "metadata": {},
   "outputs": [],
   "source": []
  },
  {
   "cell_type": "markdown",
   "metadata": {},
   "source": [
    "## Exercise \n",
    "\n",
    "Use ``apply()`` to create a new column in the ``rad_data`` named \"IMPRESSIONS\" with the string identified with ``find_impression()``."
   ]
  },
  {
   "cell_type": "code",
   "execution_count": 23,
   "metadata": {},
   "outputs": [
    {
     "data": {
      "text/html": [
       "<div>\n",
       "<style scoped>\n",
       "    .dataframe tbody tr th:only-of-type {\n",
       "        vertical-align: middle;\n",
       "    }\n",
       "\n",
       "    .dataframe tbody tr th {\n",
       "        vertical-align: top;\n",
       "    }\n",
       "\n",
       "    .dataframe thead th {\n",
       "        text-align: right;\n",
       "    }\n",
       "</style>\n",
       "<table border=\"1\" class=\"dataframe\">\n",
       "  <thead>\n",
       "    <tr style=\"text-align: right;\">\n",
       "      <th></th>\n",
       "      <th>subject_id</th>\n",
       "      <th>hadm_id</th>\n",
       "      <th>text</th>\n",
       "      <th>IMPRESSIONS</th>\n",
       "      <th>IMPRESSION</th>\n",
       "    </tr>\n",
       "  </thead>\n",
       "  <tbody>\n",
       "    <tr>\n",
       "      <th>0</th>\n",
       "      <td>56</td>\n",
       "      <td>28766.0</td>\n",
       "      <td>\\n\\n\\n     DATE: [**2644-1-17**] 10:53 AM\\n   ...</td>\n",
       "      <td></td>\n",
       "      <td></td>\n",
       "    </tr>\n",
       "    <tr>\n",
       "      <th>1</th>\n",
       "      <td>56</td>\n",
       "      <td>28766.0</td>\n",
       "      <td>\\n\\n\\n     DATE: [**2644-1-17**] 10:53 AM\\n   ...</td>\n",
       "      <td></td>\n",
       "      <td></td>\n",
       "    </tr>\n",
       "    <tr>\n",
       "      <th>2</th>\n",
       "      <td>56</td>\n",
       "      <td>28766.0</td>\n",
       "      <td>\\n\\n\\n     DATE: [**2644-1-17**] 10:43 AM\\n   ...</td>\n",
       "      <td>IMPRESSION:  Stable appearance of right pariet...</td>\n",
       "      <td>IMPRESSION:  Stable appearance of right pariet...</td>\n",
       "    </tr>\n",
       "    <tr>\n",
       "      <th>3</th>\n",
       "      <td>56</td>\n",
       "      <td>28766.0</td>\n",
       "      <td>\\n\\n\\n     DATE: [**2644-1-17**] 6:37 AM\\n    ...</td>\n",
       "      <td>IMPRESSION:\\n     \\n     Cardiomegaly and mild...</td>\n",
       "      <td>IMPRESSION:\\n     \\n     Cardiomegaly and mild...</td>\n",
       "    </tr>\n",
       "    <tr>\n",
       "      <th>4</th>\n",
       "      <td>56</td>\n",
       "      <td>28766.0</td>\n",
       "      <td>\\n\\n\\n     DATE: [**2644-1-19**] 12:09 PM\\n   ...</td>\n",
       "      <td>IMPRESSION:\\n     \\n     Marked improvement in...</td>\n",
       "      <td>IMPRESSION:\\n     \\n     Marked improvement in...</td>\n",
       "    </tr>\n",
       "  </tbody>\n",
       "</table>\n",
       "</div>"
      ],
      "text/plain": [
       "   subject_id  hadm_id                                               text  \\\n",
       "0          56  28766.0  \\n\\n\\n     DATE: [**2644-1-17**] 10:53 AM\\n   ...   \n",
       "1          56  28766.0  \\n\\n\\n     DATE: [**2644-1-17**] 10:53 AM\\n   ...   \n",
       "2          56  28766.0  \\n\\n\\n     DATE: [**2644-1-17**] 10:43 AM\\n   ...   \n",
       "3          56  28766.0  \\n\\n\\n     DATE: [**2644-1-17**] 6:37 AM\\n    ...   \n",
       "4          56  28766.0  \\n\\n\\n     DATE: [**2644-1-19**] 12:09 PM\\n   ...   \n",
       "\n",
       "                                         IMPRESSIONS  \\\n",
       "0                                                      \n",
       "1                                                      \n",
       "2  IMPRESSION:  Stable appearance of right pariet...   \n",
       "3  IMPRESSION:\\n     \\n     Cardiomegaly and mild...   \n",
       "4  IMPRESSION:\\n     \\n     Marked improvement in...   \n",
       "\n",
       "                                          IMPRESSION  \n",
       "0                                                     \n",
       "1                                                     \n",
       "2  IMPRESSION:  Stable appearance of right pariet...  \n",
       "3  IMPRESSION:\\n     \\n     Cardiomegaly and mild...  \n",
       "4  IMPRESSION:\\n     \\n     Marked improvement in...  "
      ]
     },
     "execution_count": 23,
     "metadata": {},
     "output_type": "execute_result"
    }
   ],
   "source": [
    "rad_data[\"IMPRESSION\"] = rad_data[\"text\"].apply(find_impression)\n",
    "rad_data.head()"
   ]
  },
  {
   "cell_type": "code",
   "execution_count": null,
   "metadata": {},
   "outputs": [],
   "source": []
  },
  {
   "cell_type": "markdown",
   "metadata": {},
   "source": [
    "## How else might we need to break up a report?\n",
    "\n",
    "* How would I break a report into sentences?\n",
    "* How would I break a report into words?"
   ]
  },
  {
   "cell_type": "markdown",
   "metadata": {},
   "source": [
    "## Group Exercise\n",
    "\n",
    "### Create a single string with all the reports\n",
    "\n",
    "#### Hints, etc.\n",
    "* Use List Comprehension\n",
    "* Use string joins\n",
    "* Iterate over the rows of the data frame\n",
    "* Use TextBlob to get words"
   ]
  },
  {
   "cell_type": "code",
   "execution_count": 40,
   "metadata": {},
   "outputs": [],
   "source": [
    "def do_math(func):\n",
    "    return [func(i) for i in np.arange(-np.pi,np.pi,0.1)]"
   ]
  },
  {
   "cell_type": "code",
   "execution_count": null,
   "metadata": {},
   "outputs": [],
   "source": []
  },
  {
   "cell_type": "code",
   "execution_count": 41,
   "metadata": {},
   "outputs": [
    {
     "data": {
      "text/plain": [
       "[9.869604401089358,\n",
       " 9.2512858703714,\n",
       " 8.65296733965344,\n",
       " 8.07464880893548,\n",
       " 7.516330278217521,\n",
       " 6.978011747499562,\n",
       " 6.459693216781603,\n",
       " 5.961374686063644,\n",
       " 5.483056155345685,\n",
       " 5.024737624627726,\n",
       " 4.586419093909768,\n",
       " 4.168100563191809,\n",
       " 3.76978203247385,\n",
       " 3.3914635017558914,\n",
       " 3.033144971037933,\n",
       " 2.694826440319974,\n",
       " 2.3765079096020156,\n",
       " 2.078189378884057,\n",
       " 1.7998708481660983,\n",
       " 1.5415523174481398,\n",
       " 1.3032337867301813,\n",
       " 1.0849152560122228,\n",
       " 0.8865967252942645,\n",
       " 0.708278194576306,\n",
       " 0.5499596638583477,\n",
       " 0.4116411331403894,\n",
       " 0.29332260242243113,\n",
       " 0.1950040717044729,\n",
       " 0.11668554098651471,\n",
       " 0.058367010268556535,\n",
       " 0.020048479550598398,\n",
       " 0.0017299488326403011,\n",
       " 0.003411418114682239,\n",
       " 0.025092887396724214,\n",
       " 0.06677435667876622,\n",
       " 0.12845582596080826,\n",
       " 0.21013729524285035,\n",
       " 0.3118187645248925,\n",
       " 0.4335002338069346,\n",
       " 0.5751817030889768,\n",
       " 0.7368631723710191,\n",
       " 0.9185446416530604,\n",
       " 1.1202261109351035,\n",
       " 1.341907580217147,\n",
       " 1.5835890494991882,\n",
       " 1.8452705187812295,\n",
       " 2.126951988063273,\n",
       " 2.4286334573453168,\n",
       " 2.750314926627358,\n",
       " 3.091996395909399,\n",
       " 3.4536778651914433,\n",
       " 3.8353593344734875,\n",
       " 4.237040803755528,\n",
       " 4.6587222730375695,\n",
       " 5.100403742319614,\n",
       " 5.562085211601659,\n",
       " 6.043766680883699,\n",
       " 6.54544815016574,\n",
       " 7.067129619447785,\n",
       " 7.608811088729831,\n",
       " 8.17049255801187,\n",
       " 8.752174027293911,\n",
       " 9.353855496575957]"
      ]
     },
     "execution_count": 41,
     "metadata": {},
     "output_type": "execute_result"
    }
   ],
   "source": [
    "do_math(lambda x:x**2)\n"
   ]
  },
  {
   "cell_type": "code",
   "execution_count": null,
   "metadata": {},
   "outputs": [],
   "source": []
  }
 ],
 "metadata": {
  "kernelspec": {
   "display_name": "Python 3",
   "language": "python",
   "name": "python3"
  },
  "language_info": {
   "codemirror_mode": {
    "name": "ipython",
    "version": 3
   },
   "file_extension": ".py",
   "mimetype": "text/x-python",
   "name": "python",
   "nbconvert_exporter": "python",
   "pygments_lexer": "ipython3",
   "version": "3.5.5"
  }
 },
 "nbformat": 4,
 "nbformat_minor": 1
}
